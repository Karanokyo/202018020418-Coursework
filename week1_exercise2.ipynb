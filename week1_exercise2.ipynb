{
  "nbformat": 4,
  "nbformat_minor": 0,
  "metadata": {
    "colab": {
      "provenance": [],
      "authorship_tag": "ABX9TyNiGK+/TBIDSbXRHDX1kWvS",
      "include_colab_link": true
    },
    "kernelspec": {
      "name": "python3",
      "display_name": "Python 3"
    },
    "language_info": {
      "name": "python"
    }
  },
  "cells": [
    {
      "cell_type": "markdown",
      "metadata": {
        "id": "view-in-github",
        "colab_type": "text"
      },
      "source": [
        "<a href=\"https://colab.research.google.com/github/Karanokyo/202018020418-Coursework/blob/main/week1_exercise2.ipynb\" target=\"_parent\"><img src=\"https://colab.research.google.com/assets/colab-badge.svg\" alt=\"Open In Colab\"/></a>"
      ]
    },
    {
      "cell_type": "code",
      "execution_count": 1,
      "metadata": {
        "colab": {
          "base_uri": "https://localhost:8080/"
        },
        "id": "SXkJG2zzLtQc",
        "outputId": "59818c25-0583-41f7-dee6-afef6f407570"
      },
      "outputs": [
        {
          "output_type": "stream",
          "name": "stdout",
          "text": [
            "Collecting pycryptodome\n",
            "  Downloading pycryptodome-3.21.0-cp36-abi3-manylinux_2_17_x86_64.manylinux2014_x86_64.whl.metadata (3.4 kB)\n",
            "Downloading pycryptodome-3.21.0-cp36-abi3-manylinux_2_17_x86_64.manylinux2014_x86_64.whl (2.3 MB)\n",
            "\u001b[2K   \u001b[90m━━━━━━━━━━━━━━━━━━━━━━━━━━━━━━━━━━━━━━━━\u001b[0m \u001b[32m2.3/2.3 MB\u001b[0m \u001b[31m11.1 MB/s\u001b[0m eta \u001b[36m0:00:00\u001b[0m\n",
            "\u001b[?25hInstalling collected packages: pycryptodome\n",
            "Successfully installed pycryptodome-3.21.0\n"
          ]
        }
      ],
      "source": [
        "# Install PyCryptodome for AES encryption\n",
        "!pip install pycryptodome"
      ]
    },
    {
      "cell_type": "code",
      "source": [
        "from Crypto.Cipher import AES\n",
        "from Crypto.Random import get_random_bytes\n",
        "import base64\n",
        "# Sample data to encrypt\n",
        "data = b\"username=admin\\npassword=password123\"\n",
        "key = get_random_bytes(32) # AES-256 key\n",
        "# Encrypt the data\n",
        "cipher = AES.new(key, AES.MODE_EAX)\n",
        "ciphertext, tag = cipher.encrypt_and_digest(data)\n",
        "# Store encrypted data in a file\n",
        "with open(\"iot_data.enc\", \"wb\") as file_out:\n",
        "      [file_out.write(x) for x in (cipher.nonce, tag, ciphertext)]\n",
        "print(\"Data encrypted and saved as iot_data.enc\")\n",
        "# Prompt the user to check the contents of the encrypted file\n",
        "print(\"\\nOpen and inspect 'iot_data.enc' to verify it is encrypted.\")"
      ],
      "metadata": {
        "colab": {
          "base_uri": "https://localhost:8080/"
        },
        "id": "HNq-h3LyMO31",
        "outputId": "8e12e108-44b4-4cd5-be8c-b4375ae386dc"
      },
      "execution_count": 5,
      "outputs": [
        {
          "output_type": "stream",
          "name": "stdout",
          "text": [
            "Data encrypted and saved as iot_data.enc\n",
            "\n",
            "Open and inspect 'iot_data.enc' to verify it is encrypted.\n"
          ]
        }
      ]
    },
    {
      "cell_type": "code",
      "source": [
        "from Crypto.Cipher import AES\n",
        "\n",
        "# Load encrypted data from the file\n",
        "with open(\"iot_data.enc\", \"rb\") as file_in:\n",
        "    nonce, tag, ciphertext = [file_in.read(x) for x in (16, 16, -1)]\n",
        "\n",
        "# Decrypt the data\n",
        "cipher = AES.new(key, AES.MODE_EAX, nonce=nonce)\n",
        "decrypted_data = cipher.decrypt_and_verify(ciphertext, tag)\n",
        "\n",
        "print(\"Decrypted Data:\\n\", decrypted_data.decode())\n",
        "\n",
        "# Prompt the user to compare the decrypted data with the original\n",
        "print(\"\\nCompare the decrypted data with the original.\")"
      ],
      "metadata": {
        "colab": {
          "base_uri": "https://localhost:8080/"
        },
        "id": "y5lPE-wQMnir",
        "outputId": "a1d4432f-215a-4a10-f366-a4886c1f3c6d"
      },
      "execution_count": 6,
      "outputs": [
        {
          "output_type": "stream",
          "name": "stdout",
          "text": [
            "Decrypted Data:\n",
            " username=admin\n",
            "password=password123\n",
            "\n",
            "Compare the decrypted data with the original.\n"
          ]
        }
      ]
    }
  ]
}